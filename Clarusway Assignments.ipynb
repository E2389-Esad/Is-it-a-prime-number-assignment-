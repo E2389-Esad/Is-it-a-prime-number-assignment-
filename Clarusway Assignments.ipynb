{
 "cells": [
  {
   "cell_type": "code",
   "execution_count": 1,
   "metadata": {},
   "outputs": [
    {
     "name": "stdout",
     "output_type": "stream",
     "text": [
      "Please enter a number : 371\n",
      "Thats an armstrong number!\n"
     ]
    }
   ],
   "source": [
    "num = int(input(\"Please enter a number : \"))\n",
    "variable = num\n",
    "num_list = list(str(num))\n",
    "if int(num_list[0]) ** 3 + int(num_list[1]) ** 3 + int(num_list[2]) ** 3 == variable : \n",
    "    print(\"Thats an armstrong number!\")\n",
    "else :\n",
    "    print(\"That's not an armstrong number\")"
   ]
  },
  {
   "cell_type": "code",
   "execution_count": 7,
   "metadata": {
    "scrolled": true
   },
   "outputs": [
    {
     "name": "stdout",
     "output_type": "stream",
     "text": [
      "Please enter a number : 3\n",
      "That's a prime number\n"
     ]
    }
   ],
   "source": [
    "number = int(input(\"Please enter a number : \"))\n",
    "if  number > 1 :\n",
    "    if (number % 2) == 0 :\n",
    "        print(\"That's not a prime number\")\n",
    "    else :\n",
    "        print(\"That's a prime number\")\n",
    "    \n",
    "\n"
   ]
  },
  {
   "cell_type": "code",
   "execution_count": 5,
   "metadata": {
    "scrolled": true
   },
   "outputs": [
    {
     "name": "stdout",
     "output_type": "stream",
     "text": [
      "Please enter a number : 3\n",
      "That's a prime number\n",
      "That's not a prime number\n"
     ]
    }
   ],
   "source": [
    "number = int(input(\"Please enter a number : \"))\n",
    "if (number / number == 1) and (number / 1 == number)  :\n",
    "    print(\"That's a prime number\")\n",
    "elif number == 2 :\n",
    "    print(\"That's a prime number\")\n",
    "if number % 2 == 0 :\n",
    "    print(\"That's not a prime number\")\n",
    "else :\n",
    "    print(\"That's not a prime number\")"
   ]
  },
  {
   "cell_type": "code",
   "execution_count": null,
   "metadata": {},
   "outputs": [],
   "source": []
  },
  {
   "cell_type": "code",
   "execution_count": null,
   "metadata": {},
   "outputs": [],
   "source": []
  },
  {
   "cell_type": "code",
   "execution_count": null,
   "metadata": {},
   "outputs": [],
   "source": []
  },
  {
   "cell_type": "code",
   "execution_count": null,
   "metadata": {},
   "outputs": [],
   "source": []
  },
  {
   "cell_type": "code",
   "execution_count": null,
   "metadata": {},
   "outputs": [],
   "source": []
  }
 ],
 "metadata": {
  "kernelspec": {
   "display_name": "Python 3",
   "language": "python",
   "name": "python3"
  },
  "language_info": {
   "codemirror_mode": {
    "name": "ipython",
    "version": 3
   },
   "file_extension": ".py",
   "mimetype": "text/x-python",
   "name": "python",
   "nbconvert_exporter": "python",
   "pygments_lexer": "ipython3",
   "version": "3.7.6"
  }
 },
 "nbformat": 4,
 "nbformat_minor": 4
}
